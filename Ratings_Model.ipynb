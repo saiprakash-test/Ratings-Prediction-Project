{
 "cells": [
  {
   "cell_type": "code",
   "execution_count": null,
   "metadata": {
    "id": "UNP0JoMq8gUq"
   },
   "outputs": [],
   "source": [
    "import pandas as pd\n",
    "import warnings\n",
    "warnings.filterwarnings('ignore')"
   ]
  },
  {
   "cell_type": "code",
   "execution_count": null,
   "metadata": {
    "colab": {
     "base_uri": "https://localhost:8080/",
     "height": 417
    },
    "id": "zkA1W9sQ_B92",
    "outputId": "e440fc45-18e7-4fe0-f9ff-2b73283fc8e2"
   },
   "outputs": [
    {
     "data": {
      "text/html": [
       "<div>\n",
       "<style scoped>\n",
       "    .dataframe tbody tr th:only-of-type {\n",
       "        vertical-align: middle;\n",
       "    }\n",
       "\n",
       "    .dataframe tbody tr th {\n",
       "        vertical-align: top;\n",
       "    }\n",
       "\n",
       "    .dataframe thead th {\n",
       "        text-align: right;\n",
       "    }\n",
       "</style>\n",
       "<table border=\"1\" class=\"dataframe\">\n",
       "  <thead>\n",
       "    <tr style=\"text-align: right;\">\n",
       "      <th></th>\n",
       "      <th>Rating</th>\n",
       "      <th>Reviews</th>\n",
       "    </tr>\n",
       "  </thead>\n",
       "  <tbody>\n",
       "    <tr>\n",
       "      <th>0</th>\n",
       "      <td>5.0</td>\n",
       "      <td>Very Good sound clarity with bass, build quali...</td>\n",
       "    </tr>\n",
       "    <tr>\n",
       "      <th>1</th>\n",
       "      <td>4.0</td>\n",
       "      <td>Built quality is very good. Bass is a bit too ...</td>\n",
       "    </tr>\n",
       "    <tr>\n",
       "      <th>2</th>\n",
       "      <td>5.0</td>\n",
       "      <td>They are just awesome . no less then JBL. voca...</td>\n",
       "    </tr>\n",
       "    <tr>\n",
       "      <th>3</th>\n",
       "      <td>5.0</td>\n",
       "      <td>nice product with beautiful design and fast de...</td>\n",
       "    </tr>\n",
       "    <tr>\n",
       "      <th>4</th>\n",
       "      <td>4.0</td>\n",
       "      <td>Got it by the next day of order! Excellent ser...</td>\n",
       "    </tr>\n",
       "    <tr>\n",
       "      <th>...</th>\n",
       "      <td>...</td>\n",
       "      <td>...</td>\n",
       "    </tr>\n",
       "    <tr>\n",
       "      <th>87397</th>\n",
       "      <td>5.0</td>\n",
       "      <td>Five Stars</td>\n",
       "    </tr>\n",
       "    <tr>\n",
       "      <th>87398</th>\n",
       "      <td>5.0</td>\n",
       "      <td>Value for Money</td>\n",
       "    </tr>\n",
       "    <tr>\n",
       "      <th>87399</th>\n",
       "      <td>3.0</td>\n",
       "      <td>Poor</td>\n",
       "    </tr>\n",
       "    <tr>\n",
       "      <th>87400</th>\n",
       "      <td>5.0</td>\n",
       "      <td>It does not go above 100Mbps</td>\n",
       "    </tr>\n",
       "    <tr>\n",
       "      <th>87401</th>\n",
       "      <td>2.0</td>\n",
       "      <td>I am no satisfied</td>\n",
       "    </tr>\n",
       "  </tbody>\n",
       "</table>\n",
       "<p>87402 rows × 2 columns</p>\n",
       "</div>"
      ],
      "text/plain": [
       "       Rating                                            Reviews\n",
       "0         5.0  Very Good sound clarity with bass, build quali...\n",
       "1         4.0  Built quality is very good. Bass is a bit too ...\n",
       "2         5.0  They are just awesome . no less then JBL. voca...\n",
       "3         5.0  nice product with beautiful design and fast de...\n",
       "4         4.0  Got it by the next day of order! Excellent ser...\n",
       "...       ...                                                ...\n",
       "87397     5.0                                         Five Stars\n",
       "87398     5.0                                    Value for Money\n",
       "87399     3.0                                               Poor\n",
       "87400     5.0                       It does not go above 100Mbps\n",
       "87401     2.0                                  I am no satisfied\n",
       "\n",
       "[87402 rows x 2 columns]"
      ]
     },
     "execution_count": 2,
     "metadata": {
      "tags": []
     },
     "output_type": "execute_result"
    }
   ],
   "source": [
    "df = pd.read_csv(\"Final.csv\")\n",
    "df"
   ]
  },
  {
   "cell_type": "code",
   "execution_count": null,
   "metadata": {
    "colab": {
     "base_uri": "https://localhost:8080/",
     "height": 172
    },
    "id": "HV-KeZj1-5FK",
    "outputId": "416886aa-7958-47f3-bfc2-8655c813658e"
   },
   "outputs": [
    {
     "data": {
      "text/html": [
       "<div>\n",
       "<style scoped>\n",
       "    .dataframe tbody tr th:only-of-type {\n",
       "        vertical-align: middle;\n",
       "    }\n",
       "\n",
       "    .dataframe tbody tr th {\n",
       "        vertical-align: top;\n",
       "    }\n",
       "\n",
       "    .dataframe thead th {\n",
       "        text-align: right;\n",
       "    }\n",
       "</style>\n",
       "<table border=\"1\" class=\"dataframe\">\n",
       "  <thead>\n",
       "    <tr style=\"text-align: right;\">\n",
       "      <th></th>\n",
       "      <th>Rating</th>\n",
       "      <th>Reviews</th>\n",
       "      <th>length</th>\n",
       "    </tr>\n",
       "  </thead>\n",
       "  <tbody>\n",
       "    <tr>\n",
       "      <th>0</th>\n",
       "      <td>5.0</td>\n",
       "      <td>Very Good sound clarity with bass, build quali...</td>\n",
       "      <td>142.0</td>\n",
       "    </tr>\n",
       "    <tr>\n",
       "      <th>1</th>\n",
       "      <td>4.0</td>\n",
       "      <td>Built quality is very good. Bass is a bit too ...</td>\n",
       "      <td>222.0</td>\n",
       "    </tr>\n",
       "    <tr>\n",
       "      <th>2</th>\n",
       "      <td>5.0</td>\n",
       "      <td>They are just awesome . no less then JBL. voca...</td>\n",
       "      <td>171.0</td>\n",
       "    </tr>\n",
       "    <tr>\n",
       "      <th>3</th>\n",
       "      <td>5.0</td>\n",
       "      <td>nice product with beautiful design and fast de...</td>\n",
       "      <td>86.0</td>\n",
       "    </tr>\n",
       "  </tbody>\n",
       "</table>\n",
       "</div>"
      ],
      "text/plain": [
       "   Rating                                            Reviews  length\n",
       "0     5.0  Very Good sound clarity with bass, build quali...   142.0\n",
       "1     4.0  Built quality is very good. Bass is a bit too ...   222.0\n",
       "2     5.0  They are just awesome . no less then JBL. voca...   171.0\n",
       "3     5.0  nice product with beautiful design and fast de...    86.0"
      ]
     },
     "execution_count": 3,
     "metadata": {
      "tags": []
     },
     "output_type": "execute_result"
    }
   ],
   "source": [
    "# Adding a column(length) which indicates the length of Reviews column\n",
    "df['length'] = df['Reviews'].str.len()\n",
    "df.head(4)"
   ]
  },
  {
   "cell_type": "code",
   "execution_count": null,
   "metadata": {
    "colab": {
     "base_uri": "https://localhost:8080/"
    },
    "id": "Jpa0Nmqh_FsD",
    "outputId": "86e9ac4d-92f2-47e5-dedd-eee57c2e70ec"
   },
   "outputs": [
    {
     "data": {
      "text/plain": [
       "dtype('O')"
      ]
     },
     "execution_count": 4,
     "metadata": {
      "tags": []
     },
     "output_type": "execute_result"
    }
   ],
   "source": [
    "df.Reviews.dtypes\n"
   ]
  },
  {
   "cell_type": "code",
   "execution_count": null,
   "metadata": {
    "id": "d5PmsLQQ_IWb"
   },
   "outputs": [],
   "source": [
    "df.Reviews = df.Reviews.apply(str)"
   ]
  },
  {
   "cell_type": "code",
   "execution_count": null,
   "metadata": {
    "colab": {
     "base_uri": "https://localhost:8080/"
    },
    "id": "mAxXta4b_Rl2",
    "outputId": "650fc7ad-fc81-4857-8864-794ca7688237"
   },
   "outputs": [
    {
     "name": "stdout",
     "output_type": "stream",
     "text": [
      "Collecting git+https://github.com/laxmimerit/preprocess_kgptalkie.git\n",
      "  Cloning https://github.com/laxmimerit/preprocess_kgptalkie.git to /tmp/pip-req-build-i0lpgl_s\n",
      "  Running command git clone -q https://github.com/laxmimerit/preprocess_kgptalkie.git /tmp/pip-req-build-i0lpgl_s\n",
      "Building wheels for collected packages: preprocess-kgptalkie\n",
      "  Building wheel for preprocess-kgptalkie (setup.py) ... \u001b[?25l\u001b[?25hdone\n",
      "  Created wheel for preprocess-kgptalkie: filename=preprocess_kgptalkie-0.1.3-cp37-none-any.whl size=11759 sha256=4c667c939c42541f92d19a424f40825ff2b87c6cc506f6b0a58b116785cbbe96\n",
      "  Stored in directory: /tmp/pip-ephem-wheel-cache-u_zzopp0/wheels/a8/18/22/90afa4bd43247fb9a75b710a4a3fcd94966c022ce9e3c7d0a6\n",
      "Successfully built preprocess-kgptalkie\n",
      "Installing collected packages: preprocess-kgptalkie\n",
      "  Found existing installation: preprocess-kgptalkie 0.1.3\n",
      "    Uninstalling preprocess-kgptalkie-0.1.3:\n",
      "      Successfully uninstalled preprocess-kgptalkie-0.1.3\n",
      "Successfully installed preprocess-kgptalkie-0.1.3\n"
     ]
    }
   ],
   "source": [
    "pip install git+https://github.com/laxmimerit/preprocess_kgptalkie.git --upgrade --force-reinstall"
   ]
  },
  {
   "cell_type": "code",
   "execution_count": null,
   "metadata": {
    "id": "7lasdQeA_WMa"
   },
   "outputs": [],
   "source": [
    "import preprocess_kgptalkie as ps\n",
    "import re"
   ]
  },
  {
   "cell_type": "code",
   "execution_count": null,
   "metadata": {
    "id": "eO0S2QXT_YdW"
   },
   "outputs": [],
   "source": [
    "def clean(x):\n",
    "    x = str(x).lower().replace('\\\\', '').replace('_', ' ')\n",
    "    x = ps.cont_exp(x)\n",
    "    x = ps.remove_emails(x)\n",
    "    x = ps.remove_urls(x)\n",
    "    x = ps.remove_html_tags(x)\n",
    "    x = ps.remove_accented_chars(x)\n",
    "    x = ps.remove_special_chars(x)\n",
    "    x = re.sub(\"(.)\\\\1{2,}\", \"\\\\1\", x)\n",
    "    return x"
   ]
  },
  {
   "cell_type": "code",
   "execution_count": null,
   "metadata": {
    "colab": {
     "base_uri": "https://localhost:8080/",
     "height": 203
    },
    "id": "loSHon9k_a7W",
    "outputId": "9b361e98-9d7d-4027-85f2-af995da47e9c"
   },
   "outputs": [
    {
     "data": {
      "text/html": [
       "<div>\n",
       "<style scoped>\n",
       "    .dataframe tbody tr th:only-of-type {\n",
       "        vertical-align: middle;\n",
       "    }\n",
       "\n",
       "    .dataframe tbody tr th {\n",
       "        vertical-align: top;\n",
       "    }\n",
       "\n",
       "    .dataframe thead th {\n",
       "        text-align: right;\n",
       "    }\n",
       "</style>\n",
       "<table border=\"1\" class=\"dataframe\">\n",
       "  <thead>\n",
       "    <tr style=\"text-align: right;\">\n",
       "      <th></th>\n",
       "      <th>Rating</th>\n",
       "      <th>Reviews</th>\n",
       "      <th>length</th>\n",
       "    </tr>\n",
       "  </thead>\n",
       "  <tbody>\n",
       "    <tr>\n",
       "      <th>0</th>\n",
       "      <td>5.0</td>\n",
       "      <td>very good sound clarity with bass build qualit...</td>\n",
       "      <td>142.0</td>\n",
       "    </tr>\n",
       "    <tr>\n",
       "      <th>1</th>\n",
       "      <td>4.0</td>\n",
       "      <td>built quality is very good bass is a bit too h...</td>\n",
       "      <td>222.0</td>\n",
       "    </tr>\n",
       "    <tr>\n",
       "      <th>2</th>\n",
       "      <td>5.0</td>\n",
       "      <td>they are just awesome no less then jbl vocals ...</td>\n",
       "      <td>171.0</td>\n",
       "    </tr>\n",
       "    <tr>\n",
       "      <th>3</th>\n",
       "      <td>5.0</td>\n",
       "      <td>nice product with beautiful design and fast de...</td>\n",
       "      <td>86.0</td>\n",
       "    </tr>\n",
       "    <tr>\n",
       "      <th>4</th>\n",
       "      <td>4.0</td>\n",
       "      <td>got it by the next day of order excellent serv...</td>\n",
       "      <td>468.0</td>\n",
       "    </tr>\n",
       "  </tbody>\n",
       "</table>\n",
       "</div>"
      ],
      "text/plain": [
       "   Rating                                            Reviews  length\n",
       "0     5.0  very good sound clarity with bass build qualit...   142.0\n",
       "1     4.0  built quality is very good bass is a bit too h...   222.0\n",
       "2     5.0  they are just awesome no less then jbl vocals ...   171.0\n",
       "3     5.0  nice product with beautiful design and fast de...    86.0\n",
       "4     4.0  got it by the next day of order excellent serv...   468.0"
      ]
     },
     "execution_count": 9,
     "metadata": {
      "tags": []
     },
     "output_type": "execute_result"
    }
   ],
   "source": [
    "df['Reviews'] = df['Reviews'].apply(lambda x: clean(x))\n",
    "df.head()"
   ]
  },
  {
   "cell_type": "code",
   "execution_count": null,
   "metadata": {
    "colab": {
     "base_uri": "https://localhost:8080/"
    },
    "id": "ObpWtGGY_ecf",
    "outputId": "28146c9b-a762-411c-ce86-ec1c2697e62a"
   },
   "outputs": [
    {
     "name": "stdout",
     "output_type": "stream",
     "text": [
      "[nltk_data] Downloading package stopwords to /root/nltk_data...\n",
      "[nltk_data]   Package stopwords is already up-to-date!\n",
      "[nltk_data] Downloading package punkt to /root/nltk_data...\n",
      "[nltk_data]   Package punkt is already up-to-date!\n"
     ]
    },
    {
     "data": {
      "text/plain": [
       "True"
      ]
     },
     "execution_count": 10,
     "metadata": {
      "tags": []
     },
     "output_type": "execute_result"
    }
   ],
   "source": [
    "# Removing the stopwords\n",
    "import nltk\n",
    "nltk.download('stopwords')\n",
    "nltk.download('punkt')"
   ]
  },
  {
   "cell_type": "code",
   "execution_count": null,
   "metadata": {
    "colab": {
     "base_uri": "https://localhost:8080/"
    },
    "id": "O6RDNvcAA99A",
    "outputId": "df9385c4-5ded-4ac8-ac5e-1dd4b0227a74"
   },
   "outputs": [
    {
     "data": {
      "text/plain": [
       "0    [good, sound, clarity, bass, build, quality, g...\n",
       "1    [built, quality, good, bass, bit, high, listen...\n",
       "2    [awesome, less, jbl, vocals, balanceclear, sou...\n",
       "3    [nice, product, beautiful, design, fast, deliv...\n",
       "4    [got, next, day, order, excellent, service, fl...\n",
       "Name: Reviews, dtype: object"
      ]
     },
     "execution_count": 11,
     "metadata": {
      "tags": []
     },
     "output_type": "execute_result"
    }
   ],
   "source": [
    "from nltk.corpus import stopwords  #For stopwords\n",
    "from nltk.tokenize import word_tokenize\n",
    "\n",
    "def remove_stopwords(text):\n",
    "    stop_words = set(stopwords.words('english') + ['u', 'ü', 'ur', '4', '2', 'im', 'dont', 'doin', 'ure'])\n",
    "    words = word_tokenize(text)\n",
    "    return [w for w in words if w not in stop_words]\n",
    "\n",
    "df.Reviews = df.Reviews.apply(remove_stopwords)\n",
    "df.Reviews.head()"
   ]
  },
  {
   "cell_type": "code",
   "execution_count": null,
   "metadata": {
    "colab": {
     "base_uri": "https://localhost:8080/",
     "height": 203
    },
    "id": "1cksKm0SA_Ze",
    "outputId": "8e5c64f2-8ed5-4cb0-ff5e-8b0561fcd739"
   },
   "outputs": [
    {
     "data": {
      "text/html": [
       "<div>\n",
       "<style scoped>\n",
       "    .dataframe tbody tr th:only-of-type {\n",
       "        vertical-align: middle;\n",
       "    }\n",
       "\n",
       "    .dataframe tbody tr th {\n",
       "        vertical-align: top;\n",
       "    }\n",
       "\n",
       "    .dataframe thead th {\n",
       "        text-align: right;\n",
       "    }\n",
       "</style>\n",
       "<table border=\"1\" class=\"dataframe\">\n",
       "  <thead>\n",
       "    <tr style=\"text-align: right;\">\n",
       "      <th></th>\n",
       "      <th>Rating</th>\n",
       "      <th>Reviews</th>\n",
       "      <th>length</th>\n",
       "      <th>length of cleaned data</th>\n",
       "    </tr>\n",
       "  </thead>\n",
       "  <tbody>\n",
       "    <tr>\n",
       "      <th>0</th>\n",
       "      <td>5.0</td>\n",
       "      <td>[good, sound, clarity, bass, build, quality, g...</td>\n",
       "      <td>142.0</td>\n",
       "      <td>16</td>\n",
       "    </tr>\n",
       "    <tr>\n",
       "      <th>1</th>\n",
       "      <td>4.0</td>\n",
       "      <td>[built, quality, good, bass, bit, high, listen...</td>\n",
       "      <td>222.0</td>\n",
       "      <td>23</td>\n",
       "    </tr>\n",
       "    <tr>\n",
       "      <th>2</th>\n",
       "      <td>5.0</td>\n",
       "      <td>[awesome, less, jbl, vocals, balanceclear, sou...</td>\n",
       "      <td>171.0</td>\n",
       "      <td>15</td>\n",
       "    </tr>\n",
       "    <tr>\n",
       "      <th>3</th>\n",
       "      <td>5.0</td>\n",
       "      <td>[nice, product, beautiful, design, fast, deliv...</td>\n",
       "      <td>86.0</td>\n",
       "      <td>8</td>\n",
       "    </tr>\n",
       "    <tr>\n",
       "      <th>4</th>\n",
       "      <td>4.0</td>\n",
       "      <td>[got, next, day, order, excellent, service, fl...</td>\n",
       "      <td>468.0</td>\n",
       "      <td>48</td>\n",
       "    </tr>\n",
       "  </tbody>\n",
       "</table>\n",
       "</div>"
      ],
      "text/plain": [
       "   Rating  ... length of cleaned data\n",
       "0     5.0  ...                     16\n",
       "1     4.0  ...                     23\n",
       "2     5.0  ...                     15\n",
       "3     5.0  ...                      8\n",
       "4     4.0  ...                     48\n",
       "\n",
       "[5 rows x 4 columns]"
      ]
     },
     "execution_count": 12,
     "metadata": {
      "tags": []
     },
     "output_type": "execute_result"
    }
   ],
   "source": [
    "# Adding column of cleaned length after puncuations,stopwords removal\n",
    "df['length of cleaned data'] = df['Reviews'].str.len()\n",
    "df.head()"
   ]
  },
  {
   "cell_type": "code",
   "execution_count": null,
   "metadata": {
    "colab": {
     "base_uri": "https://localhost:8080/"
    },
    "id": "KsFUuduJBCmi",
    "outputId": "7d4c523c-2fb3-49e4-b25a-446dcff0d489"
   },
   "outputs": [
    {
     "data": {
      "text/plain": [
       "0    good sound clariti bass build qualiti good wir...\n",
       "1    built qualiti good bass bit high listen longer...\n",
       "2    awesom less jbl vocal balanceclear sound even ...\n",
       "3    nice product beauti design fast deliveri thank...\n",
       "4    got next day order excel servic flipkart earph...\n",
       "Name: Reviews, dtype: object"
      ]
     },
     "execution_count": 13,
     "metadata": {
      "tags": []
     },
     "output_type": "execute_result"
    }
   ],
   "source": [
    "# Stemming using Snowball\n",
    "from nltk.stem import SnowballStemmer\n",
    "\n",
    "def stem_text(text):\n",
    "    snowball = SnowballStemmer('english')\n",
    "    return \" \".join([snowball.stem(w) for w in text])\n",
    "\n",
    "df.Reviews = df.Reviews.apply(stem_text)\n",
    "df.Reviews.head()"
   ]
  },
  {
   "cell_type": "code",
   "execution_count": null,
   "metadata": {
    "id": "KDmVMKfOBF1k"
   },
   "outputs": [],
   "source": [
    "df.to_csv(\"Cleaned_data.csv\", index = False)"
   ]
  },
  {
   "cell_type": "markdown",
   "metadata": {
    "id": "ztmh_dbsBPB_"
   },
   "source": [
    "#Feature Extraction"
   ]
  },
  {
   "cell_type": "code",
   "execution_count": null,
   "metadata": {
    "id": "6YCeuaekBKZR"
   },
   "outputs": [],
   "source": [
    "# Importing the library and converting it into vectors\n",
    "from sklearn.feature_extraction.text import TfidfVectorizer\n",
    "# Using TfidfVectorizer to deal the frequent words\n",
    "tf_vec = TfidfVectorizer(max_features=25000, ngram_range=(1,5), analyzer='char')\n",
    "\n",
    "#Seperating into input and output variables\n",
    "x = tf_vec.fit_transform(df['Reviews'])\n",
    "y = df['Rating']"
   ]
  },
  {
   "cell_type": "code",
   "execution_count": null,
   "metadata": {
    "colab": {
     "base_uri": "https://localhost:8080/"
    },
    "id": "6SBL5-eXBcd6",
    "outputId": "00b0c9be-2867-4ef7-81e9-e2660941462e"
   },
   "outputs": [
    {
     "data": {
      "text/plain": [
       "[' ',\n",
       " ' 0',\n",
       " ' 0 ',\n",
       " ' 0 b',\n",
       " ' 0 ba',\n",
       " ' 0 s',\n",
       " ' 0 st',\n",
       " ' 1',\n",
       " ' 1 ',\n",
       " ' 1 c',\n",
       " ' 1 ca',\n",
       " ' 1 d',\n",
       " ' 1 da',\n",
       " ' 1 l',\n",
       " ' 1 la',\n",
       " ' 1 m',\n",
       " ' 1 mo',\n",
       " ' 1 s',\n",
       " ' 1 sp',\n",
       " ' 1 y']"
      ]
     },
     "execution_count": 16,
     "metadata": {
      "tags": []
     },
     "output_type": "execute_result"
    }
   ],
   "source": [
    "tf_vec.get_feature_names()[:20]"
   ]
  },
  {
   "cell_type": "code",
   "execution_count": null,
   "metadata": {
    "colab": {
     "base_uri": "https://localhost:8080/"
    },
    "id": "gD3iEIwyBeRG",
    "outputId": "bbd311f0-3499-48cf-e8f9-9430ede1a0d6"
   },
   "outputs": [
    {
     "data": {
      "text/plain": [
       "{'analyzer': 'char',\n",
       " 'binary': False,\n",
       " 'decode_error': 'strict',\n",
       " 'dtype': numpy.float64,\n",
       " 'encoding': 'utf-8',\n",
       " 'input': 'content',\n",
       " 'lowercase': True,\n",
       " 'max_df': 1.0,\n",
       " 'max_features': 25000,\n",
       " 'min_df': 1,\n",
       " 'ngram_range': (1, 5),\n",
       " 'norm': 'l2',\n",
       " 'preprocessor': None,\n",
       " 'smooth_idf': True,\n",
       " 'stop_words': None,\n",
       " 'strip_accents': None,\n",
       " 'sublinear_tf': False,\n",
       " 'token_pattern': '(?u)\\\\b\\\\w\\\\w+\\\\b',\n",
       " 'tokenizer': None,\n",
       " 'use_idf': True,\n",
       " 'vocabulary': None}"
      ]
     },
     "execution_count": 17,
     "metadata": {
      "tags": []
     },
     "output_type": "execute_result"
    }
   ],
   "source": [
    "tf_vec.get_params()"
   ]
  },
  {
   "cell_type": "markdown",
   "metadata": {
    "id": "Kv0v4hgIBk3L"
   },
   "source": [
    "#Training Classifiers"
   ]
  },
  {
   "cell_type": "code",
   "execution_count": null,
   "metadata": {
    "id": "3XPSSkzOBmCS"
   },
   "outputs": [],
   "source": [
    "#Breaking our input and target variable into train and test data\n",
    "from sklearn.model_selection import train_test_split\n",
    "x_train,x_test,y_train,y_test = train_test_split(x,y,test_size=0.2,random_state=42)"
   ]
  },
  {
   "cell_type": "code",
   "execution_count": null,
   "metadata": {
    "id": "S7-v0njiBpP_"
   },
   "outputs": [],
   "source": [
    "# Importing all the model library\n",
    "from sklearn.linear_model import LogisticRegression\n",
    "from sklearn.svm import LinearSVC\n",
    "from sklearn.naive_bayes import MultinomialNB\n",
    "from sklearn.linear_model import PassiveAggressiveClassifier\n",
    "from sklearn.ensemble import RandomForestClassifier\n",
    "# Importing performance metrics\n",
    "from sklearn.metrics import accuracy_score, confusion_matrix, classification_report"
   ]
  },
  {
   "cell_type": "code",
   "execution_count": null,
   "metadata": {
    "id": "Qq27vnbfBsJm"
   },
   "outputs": [],
   "source": [
    "# Passing the best fit parameters\n",
    "svc = LinearSVC(C=20, class_weight='balanced')\n",
    "mnb = MultinomialNB(alpha = 1.0,fit_prior = True)\n",
    "pac = PassiveAggressiveClassifier(C = 0.8, n_iter_no_change = 4)\n",
    "rfc = RandomForestClassifier(n_estimators = 100,min_samples_split = 2)"
   ]
  },
  {
   "cell_type": "code",
   "execution_count": null,
   "metadata": {
    "id": "lAIilNZ6Bur7"
   },
   "outputs": [],
   "source": [
    "# Evaluating the models using to find their performance metrics\n",
    "def evaluate_metrics(model):\n",
    "    model.fit(x_train,y_train)\n",
    "    model.score(x_train,y_train)\n",
    "    pred=model.predict(x_test)\n",
    "    print('Accuracy score of',model,'is:')\n",
    "    print(accuracy_score(y_test,pred))\n",
    "    print(confusion_matrix(y_test,pred))\n",
    "    print(classification_report(y_test,pred))"
   ]
  },
  {
   "cell_type": "code",
   "execution_count": null,
   "metadata": {
    "colab": {
     "base_uri": "https://localhost:8080/"
    },
    "id": "e1xIS7IZBw32",
    "outputId": "c8128a49-f429-4e82-d469-1334842978de"
   },
   "outputs": [
    {
     "name": "stdout",
     "output_type": "stream",
     "text": [
      "Accuracy score of LinearSVC(C=20, class_weight='balanced', dual=True, fit_intercept=True,\n",
      "          intercept_scaling=1, loss='squared_hinge', max_iter=1000,\n",
      "          multi_class='ovr', penalty='l2', random_state=None, tol=0.0001,\n",
      "          verbose=0) is:\n",
      "0.9877009324409358\n",
      "[[    2     3    10     1     0]\n",
      " [    1     7     6     0     1]\n",
      " [    7    12   142    36     6]\n",
      " [    1    18    54  5544     5]\n",
      " [    0    19    29     6 11571]]\n",
      "              precision    recall  f1-score   support\n",
      "\n",
      "         1.0       0.18      0.12      0.15        16\n",
      "         2.0       0.12      0.47      0.19        15\n",
      "         3.0       0.59      0.70      0.64       203\n",
      "         4.0       0.99      0.99      0.99      5622\n",
      "         5.0       1.00      1.00      1.00     11625\n",
      "\n",
      "    accuracy                           0.99     17481\n",
      "   macro avg       0.58      0.65      0.59     17481\n",
      "weighted avg       0.99      0.99      0.99     17481\n",
      "\n"
     ]
    }
   ],
   "source": [
    "evaluate_metrics(svc)"
   ]
  },
  {
   "cell_type": "code",
   "execution_count": null,
   "metadata": {
    "colab": {
     "base_uri": "https://localhost:8080/"
    },
    "id": "ZBHoQAahBzam",
    "outputId": "22e9d72d-e89c-4809-f5be-5cfd2b7a9d11"
   },
   "outputs": [
    {
     "name": "stdout",
     "output_type": "stream",
     "text": [
      "Accuracy score of MultinomialNB(alpha=1.0, class_prior=None, fit_prior=True) is:\n",
      "0.9835821749327842\n",
      "[[    0     0    12     0     4]\n",
      " [    0     0     8     0     7]\n",
      " [    0     0   143    27    33]\n",
      " [    0     0   128  5454    40]\n",
      " [    0     0    23     5 11597]]\n",
      "              precision    recall  f1-score   support\n",
      "\n",
      "         1.0       0.00      0.00      0.00        16\n",
      "         2.0       0.00      0.00      0.00        15\n",
      "         3.0       0.46      0.70      0.55       203\n",
      "         4.0       0.99      0.97      0.98      5622\n",
      "         5.0       0.99      1.00      1.00     11625\n",
      "\n",
      "    accuracy                           0.98     17481\n",
      "   macro avg       0.49      0.53      0.51     17481\n",
      "weighted avg       0.99      0.98      0.98     17481\n",
      "\n"
     ]
    }
   ],
   "source": [
    "evaluate_metrics(mnb)"
   ]
  },
  {
   "cell_type": "code",
   "execution_count": null,
   "metadata": {
    "colab": {
     "base_uri": "https://localhost:8080/"
    },
    "id": "dSfT72FGB18L",
    "outputId": "4f4e56dc-8f75-4420-c8e7-58de95f4d1fc"
   },
   "outputs": [
    {
     "name": "stdout",
     "output_type": "stream",
     "text": [
      "Accuracy score of PassiveAggressiveClassifier(C=0.8, average=False, class_weight=None,\n",
      "                            early_stopping=False, fit_intercept=True,\n",
      "                            loss='hinge', max_iter=1000, n_iter_no_change=4,\n",
      "                            n_jobs=None, random_state=None, shuffle=True,\n",
      "                            tol=0.001, validation_fraction=0.1, verbose=0,\n",
      "                            warm_start=False) is:\n",
      "0.9873004976831989\n",
      "[[    1     0    13     2     0]\n",
      " [    0     1    11     2     1]\n",
      " [    3     8   122    60    10]\n",
      " [    0     0    55  5563     4]\n",
      " [    0     0    42    11 11572]]\n",
      "              precision    recall  f1-score   support\n",
      "\n",
      "         1.0       0.25      0.06      0.10        16\n",
      "         2.0       0.11      0.07      0.08        15\n",
      "         3.0       0.50      0.60      0.55       203\n",
      "         4.0       0.99      0.99      0.99      5622\n",
      "         5.0       1.00      1.00      1.00     11625\n",
      "\n",
      "    accuracy                           0.99     17481\n",
      "   macro avg       0.57      0.54      0.54     17481\n",
      "weighted avg       0.99      0.99      0.99     17481\n",
      "\n"
     ]
    }
   ],
   "source": [
    "evaluate_metrics(pac)"
   ]
  },
  {
   "cell_type": "code",
   "execution_count": null,
   "metadata": {
    "colab": {
     "base_uri": "https://localhost:8080/"
    },
    "id": "b4BlreB6B4mT",
    "outputId": "6bb92354-1989-451f-d220-8e14a725238d"
   },
   "outputs": [
    {
     "name": "stdout",
     "output_type": "stream",
     "text": [
      "Accuracy score of RandomForestClassifier(bootstrap=True, ccp_alpha=0.0, class_weight=None,\n",
      "                       criterion='gini', max_depth=None, max_features='auto',\n",
      "                       max_leaf_nodes=None, max_samples=None,\n",
      "                       min_impurity_decrease=0.0, min_impurity_split=None,\n",
      "                       min_samples_leaf=1, min_samples_split=2,\n",
      "                       min_weight_fraction_leaf=0.0, n_estimators=100,\n",
      "                       n_jobs=None, oob_score=False, random_state=None,\n",
      "                       verbose=0, warm_start=False) is:\n",
      "0.9883301870602368\n",
      "[[    1     0    10     3     2]\n",
      " [    0     1     4     4     6]\n",
      " [    2     6   117    70     8]\n",
      " [    0     0    44  5568    10]\n",
      " [    0     0    21    14 11590]]\n",
      "              precision    recall  f1-score   support\n",
      "\n",
      "         1.0       0.33      0.06      0.11        16\n",
      "         2.0       0.14      0.07      0.09        15\n",
      "         3.0       0.60      0.58      0.59       203\n",
      "         4.0       0.98      0.99      0.99      5622\n",
      "         5.0       1.00      1.00      1.00     11625\n",
      "\n",
      "    accuracy                           0.99     17481\n",
      "   macro avg       0.61      0.54      0.55     17481\n",
      "weighted avg       0.99      0.99      0.99     17481\n",
      "\n"
     ]
    }
   ],
   "source": [
    "evaluate_metrics(rfc)"
   ]
  },
  {
   "cell_type": "markdown",
   "metadata": {},
   "source": [
    "###### Observations: RandomForestClassifier is performing good So,we opt it as final model."
   ]
  },
  {
   "cell_type": "markdown",
   "metadata": {},
   "source": [
    "## Testing Predictions"
   ]
  },
  {
   "cell_type": "code",
   "execution_count": null,
   "metadata": {
    "colab": {
     "base_uri": "https://localhost:8080/"
    },
    "id": "mWd84bIXB7E6",
    "outputId": "60633985-fe06-4ea7-908a-2f77ae478a32"
   },
   "outputs": [
    {
     "data": {
      "text/plain": [
       "array([4.])"
      ]
     },
     "execution_count": 26,
     "metadata": {
      "tags": []
     },
     "output_type": "execute_result"
    }
   ],
   "source": [
    "x = 'Built quality is very good. Bass is a bit too '\n",
    "x = clean(x)\n",
    "tf_vec = tf_vec.transform([x])\n",
    "rfc.predict(tf_vec)"
   ]
  }
 ],
 "metadata": {
  "colab": {
   "collapsed_sections": [],
   "name": "Copy of Ratings Model",
   "provenance": []
  },
  "kernelspec": {
   "display_name": "Python 3",
   "language": "python",
   "name": "python3"
  },
  "language_info": {
   "codemirror_mode": {
    "name": "ipython",
    "version": 3
   },
   "file_extension": ".py",
   "mimetype": "text/x-python",
   "name": "python",
   "nbconvert_exporter": "python",
   "pygments_lexer": "ipython3",
   "version": "3.8.5"
  }
 },
 "nbformat": 4,
 "nbformat_minor": 1
}
