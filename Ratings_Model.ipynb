{
  "nbformat": 4,
  "nbformat_minor": 0,
  "metadata": {
    "colab": {
      "name": "Ratings Model",
      "provenance": [],
      "collapsed_sections": [],
      "authorship_tag": "ABX9TyO+jKIuhYMmGsy9wAFOt4hT"
    },
    "kernelspec": {
      "name": "python3",
      "display_name": "Python 3"
    },
    "language_info": {
      "name": "python"
    }
  },
  "cells": [
    {
      "cell_type": "code",
      "metadata": {
        "id": "UNP0JoMq8gUq"
      },
      "source": [
        "import pandas as pd\n",
        "import warnings\n",
        "warnings.filterwarnings('ignore')"
      ],
      "execution_count": 1,
      "outputs": []
    },
    {
      "cell_type": "code",
      "metadata": {
        "colab": {
          "base_uri": "https://localhost:8080/",
          "height": 417
        },
        "id": "zkA1W9sQ_B92",
        "outputId": "1a66eaf5-ae33-43ff-a495-172d1105a47e"
      },
      "source": [
        "df = pd.read_csv(\"Final.csv\")\n",
        "df"
      ],
      "execution_count": 2,
      "outputs": [
        {
          "output_type": "execute_result",
          "data": {
            "text/html": [
              "<div>\n",
              "<style scoped>\n",
              "    .dataframe tbody tr th:only-of-type {\n",
              "        vertical-align: middle;\n",
              "    }\n",
              "\n",
              "    .dataframe tbody tr th {\n",
              "        vertical-align: top;\n",
              "    }\n",
              "\n",
              "    .dataframe thead th {\n",
              "        text-align: right;\n",
              "    }\n",
              "</style>\n",
              "<table border=\"1\" class=\"dataframe\">\n",
              "  <thead>\n",
              "    <tr style=\"text-align: right;\">\n",
              "      <th></th>\n",
              "      <th>Rating</th>\n",
              "      <th>Reviews</th>\n",
              "    </tr>\n",
              "  </thead>\n",
              "  <tbody>\n",
              "    <tr>\n",
              "      <th>0</th>\n",
              "      <td>5.0</td>\n",
              "      <td>Very Good sound clarity with bass, build quali...</td>\n",
              "    </tr>\n",
              "    <tr>\n",
              "      <th>1</th>\n",
              "      <td>4.0</td>\n",
              "      <td>Built quality is very good. Bass is a bit too ...</td>\n",
              "    </tr>\n",
              "    <tr>\n",
              "      <th>2</th>\n",
              "      <td>5.0</td>\n",
              "      <td>They are just awesome . no less then JBL. voca...</td>\n",
              "    </tr>\n",
              "    <tr>\n",
              "      <th>3</th>\n",
              "      <td>5.0</td>\n",
              "      <td>nice product with beautiful design and fast de...</td>\n",
              "    </tr>\n",
              "    <tr>\n",
              "      <th>4</th>\n",
              "      <td>4.0</td>\n",
              "      <td>Got it by the next day of order! Excellent ser...</td>\n",
              "    </tr>\n",
              "    <tr>\n",
              "      <th>...</th>\n",
              "      <td>...</td>\n",
              "      <td>...</td>\n",
              "    </tr>\n",
              "    <tr>\n",
              "      <th>87397</th>\n",
              "      <td>5.0</td>\n",
              "      <td>Five Stars</td>\n",
              "    </tr>\n",
              "    <tr>\n",
              "      <th>87398</th>\n",
              "      <td>5.0</td>\n",
              "      <td>Value for Money</td>\n",
              "    </tr>\n",
              "    <tr>\n",
              "      <th>87399</th>\n",
              "      <td>3.0</td>\n",
              "      <td>Poor</td>\n",
              "    </tr>\n",
              "    <tr>\n",
              "      <th>87400</th>\n",
              "      <td>5.0</td>\n",
              "      <td>It does not go above 100Mbps</td>\n",
              "    </tr>\n",
              "    <tr>\n",
              "      <th>87401</th>\n",
              "      <td>2.0</td>\n",
              "      <td>I am no satisfied</td>\n",
              "    </tr>\n",
              "  </tbody>\n",
              "</table>\n",
              "<p>87402 rows × 2 columns</p>\n",
              "</div>"
            ],
            "text/plain": [
              "       Rating                                            Reviews\n",
              "0         5.0  Very Good sound clarity with bass, build quali...\n",
              "1         4.0  Built quality is very good. Bass is a bit too ...\n",
              "2         5.0  They are just awesome . no less then JBL. voca...\n",
              "3         5.0  nice product with beautiful design and fast de...\n",
              "4         4.0  Got it by the next day of order! Excellent ser...\n",
              "...       ...                                                ...\n",
              "87397     5.0                                         Five Stars\n",
              "87398     5.0                                    Value for Money\n",
              "87399     3.0                                               Poor\n",
              "87400     5.0                       It does not go above 100Mbps\n",
              "87401     2.0                                  I am no satisfied\n",
              "\n",
              "[87402 rows x 2 columns]"
            ]
          },
          "metadata": {
            "tags": []
          },
          "execution_count": 2
        }
      ]
    },
    {
      "cell_type": "code",
      "metadata": {
        "colab": {
          "base_uri": "https://localhost:8080/",
          "height": 172
        },
        "id": "HV-KeZj1-5FK",
        "outputId": "2349bc4f-8f74-420d-9c35-9ce89b15b874"
      },
      "source": [
        "# Adding a column(length) which indicates the length of Reviews column\n",
        "df['length'] = df['Reviews'].str.len()\n",
        "df.head(4)"
      ],
      "execution_count": 3,
      "outputs": [
        {
          "output_type": "execute_result",
          "data": {
            "text/html": [
              "<div>\n",
              "<style scoped>\n",
              "    .dataframe tbody tr th:only-of-type {\n",
              "        vertical-align: middle;\n",
              "    }\n",
              "\n",
              "    .dataframe tbody tr th {\n",
              "        vertical-align: top;\n",
              "    }\n",
              "\n",
              "    .dataframe thead th {\n",
              "        text-align: right;\n",
              "    }\n",
              "</style>\n",
              "<table border=\"1\" class=\"dataframe\">\n",
              "  <thead>\n",
              "    <tr style=\"text-align: right;\">\n",
              "      <th></th>\n",
              "      <th>Rating</th>\n",
              "      <th>Reviews</th>\n",
              "      <th>length</th>\n",
              "    </tr>\n",
              "  </thead>\n",
              "  <tbody>\n",
              "    <tr>\n",
              "      <th>0</th>\n",
              "      <td>5.0</td>\n",
              "      <td>Very Good sound clarity with bass, build quali...</td>\n",
              "      <td>142.0</td>\n",
              "    </tr>\n",
              "    <tr>\n",
              "      <th>1</th>\n",
              "      <td>4.0</td>\n",
              "      <td>Built quality is very good. Bass is a bit too ...</td>\n",
              "      <td>222.0</td>\n",
              "    </tr>\n",
              "    <tr>\n",
              "      <th>2</th>\n",
              "      <td>5.0</td>\n",
              "      <td>They are just awesome . no less then JBL. voca...</td>\n",
              "      <td>171.0</td>\n",
              "    </tr>\n",
              "    <tr>\n",
              "      <th>3</th>\n",
              "      <td>5.0</td>\n",
              "      <td>nice product with beautiful design and fast de...</td>\n",
              "      <td>86.0</td>\n",
              "    </tr>\n",
              "  </tbody>\n",
              "</table>\n",
              "</div>"
            ],
            "text/plain": [
              "   Rating                                            Reviews  length\n",
              "0     5.0  Very Good sound clarity with bass, build quali...   142.0\n",
              "1     4.0  Built quality is very good. Bass is a bit too ...   222.0\n",
              "2     5.0  They are just awesome . no less then JBL. voca...   171.0\n",
              "3     5.0  nice product with beautiful design and fast de...    86.0"
            ]
          },
          "metadata": {
            "tags": []
          },
          "execution_count": 3
        }
      ]
    },
    {
      "cell_type": "code",
      "metadata": {
        "colab": {
          "base_uri": "https://localhost:8080/"
        },
        "id": "Jpa0Nmqh_FsD",
        "outputId": "cdf39a8e-d473-4a75-f2e8-22f492ea4273"
      },
      "source": [
        "df.Reviews.dtypes\n"
      ],
      "execution_count": 4,
      "outputs": [
        {
          "output_type": "execute_result",
          "data": {
            "text/plain": [
              "dtype('O')"
            ]
          },
          "metadata": {
            "tags": []
          },
          "execution_count": 4
        }
      ]
    },
    {
      "cell_type": "code",
      "metadata": {
        "id": "d5PmsLQQ_IWb"
      },
      "source": [
        "df.Reviews = df.Reviews.apply(str)"
      ],
      "execution_count": 5,
      "outputs": []
    },
    {
      "cell_type": "code",
      "metadata": {
        "colab": {
          "base_uri": "https://localhost:8080/"
        },
        "id": "mAxXta4b_Rl2",
        "outputId": "b314bf92-dc56-4ded-ce0b-ea103bb6a7c4"
      },
      "source": [
        "pip install git+https://github.com/laxmimerit/preprocess_kgptalkie.git --upgrade --force-reinstall"
      ],
      "execution_count": 6,
      "outputs": [
        {
          "output_type": "stream",
          "text": [
            "Collecting git+https://github.com/laxmimerit/preprocess_kgptalkie.git\n",
            "  Cloning https://github.com/laxmimerit/preprocess_kgptalkie.git to /tmp/pip-req-build-zu2j0nxo\n",
            "  Running command git clone -q https://github.com/laxmimerit/preprocess_kgptalkie.git /tmp/pip-req-build-zu2j0nxo\n",
            "Building wheels for collected packages: preprocess-kgptalkie\n",
            "  Building wheel for preprocess-kgptalkie (setup.py) ... \u001b[?25l\u001b[?25hdone\n",
            "  Created wheel for preprocess-kgptalkie: filename=preprocess_kgptalkie-0.1.3-cp37-none-any.whl size=11759 sha256=5fc78a4eb66bb04e496684a48e3ab61876ee70a7c775d98914325d0640259f90\n",
            "  Stored in directory: /tmp/pip-ephem-wheel-cache-e6se_h0q/wheels/a8/18/22/90afa4bd43247fb9a75b710a4a3fcd94966c022ce9e3c7d0a6\n",
            "Successfully built preprocess-kgptalkie\n",
            "Installing collected packages: preprocess-kgptalkie\n",
            "Successfully installed preprocess-kgptalkie-0.1.3\n"
          ],
          "name": "stdout"
        }
      ]
    },
    {
      "cell_type": "code",
      "metadata": {
        "id": "7lasdQeA_WMa"
      },
      "source": [
        "import preprocess_kgptalkie as ps\n",
        "import re"
      ],
      "execution_count": 7,
      "outputs": []
    },
    {
      "cell_type": "code",
      "metadata": {
        "id": "eO0S2QXT_YdW"
      },
      "source": [
        "def clean(x):\n",
        "    x = str(x).lower().replace('\\\\', '').replace('_', ' ')\n",
        "    x = ps.cont_exp(x)\n",
        "    x = ps.remove_emails(x)\n",
        "    x = ps.remove_urls(x)\n",
        "    x = ps.remove_html_tags(x)\n",
        "    x = ps.remove_accented_chars(x)\n",
        "    x = ps.remove_special_chars(x)\n",
        "    x = re.sub(\"(.)\\\\1{2,}\", \"\\\\1\", x)\n",
        "    return x"
      ],
      "execution_count": 8,
      "outputs": []
    },
    {
      "cell_type": "code",
      "metadata": {
        "colab": {
          "base_uri": "https://localhost:8080/",
          "height": 203
        },
        "id": "loSHon9k_a7W",
        "outputId": "a5db6d1f-dae7-441d-a24a-a74565e94bcb"
      },
      "source": [
        "df['Reviews'] = df['Reviews'].apply(lambda x: clean(x))\n",
        "df.head()"
      ],
      "execution_count": 9,
      "outputs": [
        {
          "output_type": "execute_result",
          "data": {
            "text/html": [
              "<div>\n",
              "<style scoped>\n",
              "    .dataframe tbody tr th:only-of-type {\n",
              "        vertical-align: middle;\n",
              "    }\n",
              "\n",
              "    .dataframe tbody tr th {\n",
              "        vertical-align: top;\n",
              "    }\n",
              "\n",
              "    .dataframe thead th {\n",
              "        text-align: right;\n",
              "    }\n",
              "</style>\n",
              "<table border=\"1\" class=\"dataframe\">\n",
              "  <thead>\n",
              "    <tr style=\"text-align: right;\">\n",
              "      <th></th>\n",
              "      <th>Rating</th>\n",
              "      <th>Reviews</th>\n",
              "      <th>length</th>\n",
              "    </tr>\n",
              "  </thead>\n",
              "  <tbody>\n",
              "    <tr>\n",
              "      <th>0</th>\n",
              "      <td>5.0</td>\n",
              "      <td>very good sound clarity with bass build qualit...</td>\n",
              "      <td>142.0</td>\n",
              "    </tr>\n",
              "    <tr>\n",
              "      <th>1</th>\n",
              "      <td>4.0</td>\n",
              "      <td>built quality is very good bass is a bit too h...</td>\n",
              "      <td>222.0</td>\n",
              "    </tr>\n",
              "    <tr>\n",
              "      <th>2</th>\n",
              "      <td>5.0</td>\n",
              "      <td>they are just awesome no less then jbl vocals ...</td>\n",
              "      <td>171.0</td>\n",
              "    </tr>\n",
              "    <tr>\n",
              "      <th>3</th>\n",
              "      <td>5.0</td>\n",
              "      <td>nice product with beautiful design and fast de...</td>\n",
              "      <td>86.0</td>\n",
              "    </tr>\n",
              "    <tr>\n",
              "      <th>4</th>\n",
              "      <td>4.0</td>\n",
              "      <td>got it by the next day of order excellent serv...</td>\n",
              "      <td>468.0</td>\n",
              "    </tr>\n",
              "  </tbody>\n",
              "</table>\n",
              "</div>"
            ],
            "text/plain": [
              "   Rating                                            Reviews  length\n",
              "0     5.0  very good sound clarity with bass build qualit...   142.0\n",
              "1     4.0  built quality is very good bass is a bit too h...   222.0\n",
              "2     5.0  they are just awesome no less then jbl vocals ...   171.0\n",
              "3     5.0  nice product with beautiful design and fast de...    86.0\n",
              "4     4.0  got it by the next day of order excellent serv...   468.0"
            ]
          },
          "metadata": {
            "tags": []
          },
          "execution_count": 9
        }
      ]
    },
    {
      "cell_type": "code",
      "metadata": {
        "colab": {
          "base_uri": "https://localhost:8080/"
        },
        "id": "ObpWtGGY_ecf",
        "outputId": "ef657e22-b399-41bf-ac68-d9f0023b0356"
      },
      "source": [
        "# Removing the stopwords\n",
        "import nltk\n",
        "nltk.download('stopwords')\n",
        "nltk.download('punkt')"
      ],
      "execution_count": 10,
      "outputs": [
        {
          "output_type": "stream",
          "text": [
            "[nltk_data] Downloading package stopwords to /root/nltk_data...\n",
            "[nltk_data]   Unzipping corpora/stopwords.zip.\n",
            "[nltk_data] Downloading package punkt to /root/nltk_data...\n",
            "[nltk_data]   Unzipping tokenizers/punkt.zip.\n"
          ],
          "name": "stdout"
        },
        {
          "output_type": "execute_result",
          "data": {
            "text/plain": [
              "True"
            ]
          },
          "metadata": {
            "tags": []
          },
          "execution_count": 10
        }
      ]
    },
    {
      "cell_type": "code",
      "metadata": {
        "colab": {
          "base_uri": "https://localhost:8080/"
        },
        "id": "O6RDNvcAA99A",
        "outputId": "eff505a2-9038-4863-cfff-c2a94ffff79a"
      },
      "source": [
        "from nltk.corpus import stopwords  #For stopwords\n",
        "from nltk.tokenize import word_tokenize\n",
        "\n",
        "def remove_stopwords(text):\n",
        "    stop_words = set(stopwords.words('english') + ['u', 'ü', 'ur', '4', '2', 'im', 'dont', 'doin', 'ure'])\n",
        "    words = word_tokenize(text)\n",
        "    return [w for w in words if w not in stop_words]\n",
        "\n",
        "df.Reviews = df.Reviews.apply(remove_stopwords)\n",
        "df.Reviews.head()"
      ],
      "execution_count": 11,
      "outputs": [
        {
          "output_type": "execute_result",
          "data": {
            "text/plain": [
              "0    [good, sound, clarity, bass, build, quality, g...\n",
              "1    [built, quality, good, bass, bit, high, listen...\n",
              "2    [awesome, less, jbl, vocals, balanceclear, sou...\n",
              "3    [nice, product, beautiful, design, fast, deliv...\n",
              "4    [got, next, day, order, excellent, service, fl...\n",
              "Name: Reviews, dtype: object"
            ]
          },
          "metadata": {
            "tags": []
          },
          "execution_count": 11
        }
      ]
    },
    {
      "cell_type": "code",
      "metadata": {
        "colab": {
          "base_uri": "https://localhost:8080/",
          "height": 203
        },
        "id": "1cksKm0SA_Ze",
        "outputId": "d0dac03f-c9fe-48e6-aee9-2b0f0a9208c6"
      },
      "source": [
        "# Adding column of cleaned length after puncuations,stopwords removal\n",
        "df['length of cleaned data'] = df['Reviews'].str.len()\n",
        "df.head()"
      ],
      "execution_count": 12,
      "outputs": [
        {
          "output_type": "execute_result",
          "data": {
            "text/html": [
              "<div>\n",
              "<style scoped>\n",
              "    .dataframe tbody tr th:only-of-type {\n",
              "        vertical-align: middle;\n",
              "    }\n",
              "\n",
              "    .dataframe tbody tr th {\n",
              "        vertical-align: top;\n",
              "    }\n",
              "\n",
              "    .dataframe thead th {\n",
              "        text-align: right;\n",
              "    }\n",
              "</style>\n",
              "<table border=\"1\" class=\"dataframe\">\n",
              "  <thead>\n",
              "    <tr style=\"text-align: right;\">\n",
              "      <th></th>\n",
              "      <th>Rating</th>\n",
              "      <th>Reviews</th>\n",
              "      <th>length</th>\n",
              "      <th>length of cleaned data</th>\n",
              "    </tr>\n",
              "  </thead>\n",
              "  <tbody>\n",
              "    <tr>\n",
              "      <th>0</th>\n",
              "      <td>5.0</td>\n",
              "      <td>[good, sound, clarity, bass, build, quality, g...</td>\n",
              "      <td>142.0</td>\n",
              "      <td>16</td>\n",
              "    </tr>\n",
              "    <tr>\n",
              "      <th>1</th>\n",
              "      <td>4.0</td>\n",
              "      <td>[built, quality, good, bass, bit, high, listen...</td>\n",
              "      <td>222.0</td>\n",
              "      <td>23</td>\n",
              "    </tr>\n",
              "    <tr>\n",
              "      <th>2</th>\n",
              "      <td>5.0</td>\n",
              "      <td>[awesome, less, jbl, vocals, balanceclear, sou...</td>\n",
              "      <td>171.0</td>\n",
              "      <td>15</td>\n",
              "    </tr>\n",
              "    <tr>\n",
              "      <th>3</th>\n",
              "      <td>5.0</td>\n",
              "      <td>[nice, product, beautiful, design, fast, deliv...</td>\n",
              "      <td>86.0</td>\n",
              "      <td>8</td>\n",
              "    </tr>\n",
              "    <tr>\n",
              "      <th>4</th>\n",
              "      <td>4.0</td>\n",
              "      <td>[got, next, day, order, excellent, service, fl...</td>\n",
              "      <td>468.0</td>\n",
              "      <td>48</td>\n",
              "    </tr>\n",
              "  </tbody>\n",
              "</table>\n",
              "</div>"
            ],
            "text/plain": [
              "   Rating  ... length of cleaned data\n",
              "0     5.0  ...                     16\n",
              "1     4.0  ...                     23\n",
              "2     5.0  ...                     15\n",
              "3     5.0  ...                      8\n",
              "4     4.0  ...                     48\n",
              "\n",
              "[5 rows x 4 columns]"
            ]
          },
          "metadata": {
            "tags": []
          },
          "execution_count": 12
        }
      ]
    },
    {
      "cell_type": "code",
      "metadata": {
        "colab": {
          "base_uri": "https://localhost:8080/"
        },
        "id": "KsFUuduJBCmi",
        "outputId": "76ad9a9d-e2b9-4644-cfcb-4feb99dd9c5c"
      },
      "source": [
        "# Stemming using Snowball\n",
        "from nltk.stem import SnowballStemmer\n",
        "\n",
        "def stem_text(text):\n",
        "    snowball = SnowballStemmer('english')\n",
        "    return \" \".join([snowball.stem(w) for w in text])\n",
        "\n",
        "df.Reviews = df.Reviews.apply(stem_text)\n",
        "df.Reviews.head()"
      ],
      "execution_count": 13,
      "outputs": [
        {
          "output_type": "execute_result",
          "data": {
            "text/plain": [
              "0    good sound clariti bass build qualiti good wir...\n",
              "1    built qualiti good bass bit high listen longer...\n",
              "2    awesom less jbl vocal balanceclear sound even ...\n",
              "3    nice product beauti design fast deliveri thank...\n",
              "4    got next day order excel servic flipkart earph...\n",
              "Name: Reviews, dtype: object"
            ]
          },
          "metadata": {
            "tags": []
          },
          "execution_count": 13
        }
      ]
    },
    {
      "cell_type": "code",
      "metadata": {
        "id": "KDmVMKfOBF1k"
      },
      "source": [
        "df.to_csv(\"Cleaned_data.csv\", index = False)"
      ],
      "execution_count": 14,
      "outputs": []
    },
    {
      "cell_type": "markdown",
      "metadata": {
        "id": "ztmh_dbsBPB_"
      },
      "source": [
        "#Feature Extraction"
      ]
    },
    {
      "cell_type": "code",
      "metadata": {
        "id": "6YCeuaekBKZR"
      },
      "source": [
        "# Importing the library and converting it into vectors\n",
        "from sklearn.feature_extraction.text import TfidfVectorizer\n",
        "# Using TfidfVectorizer to deal the frequent words\n",
        "tf_vec = TfidfVectorizer(max_features=25000, ngram_range=(1,5), analyzer='char')\n",
        "\n",
        "#Seperating into input and output variables\n",
        "x = tf_vec.fit_transform(df['Reviews'])\n",
        "y = df['Rating']"
      ],
      "execution_count": 15,
      "outputs": []
    },
    {
      "cell_type": "code",
      "metadata": {
        "colab": {
          "base_uri": "https://localhost:8080/"
        },
        "id": "6SBL5-eXBcd6",
        "outputId": "387c5fb2-a241-4418-d4a8-13f7060ef36b"
      },
      "source": [
        "tf_vec.get_feature_names()[:20]"
      ],
      "execution_count": 16,
      "outputs": [
        {
          "output_type": "execute_result",
          "data": {
            "text/plain": [
              "[' ',\n",
              " ' 0',\n",
              " ' 0 ',\n",
              " ' 0 b',\n",
              " ' 0 ba',\n",
              " ' 0 s',\n",
              " ' 0 st',\n",
              " ' 1',\n",
              " ' 1 ',\n",
              " ' 1 c',\n",
              " ' 1 ca',\n",
              " ' 1 d',\n",
              " ' 1 da',\n",
              " ' 1 l',\n",
              " ' 1 la',\n",
              " ' 1 m',\n",
              " ' 1 mo',\n",
              " ' 1 s',\n",
              " ' 1 sp',\n",
              " ' 1 y']"
            ]
          },
          "metadata": {
            "tags": []
          },
          "execution_count": 16
        }
      ]
    },
    {
      "cell_type": "code",
      "metadata": {
        "colab": {
          "base_uri": "https://localhost:8080/"
        },
        "id": "gD3iEIwyBeRG",
        "outputId": "7061a128-50b4-4f57-b0d3-e0f85aeefe79"
      },
      "source": [
        "tf_vec.get_params()"
      ],
      "execution_count": 17,
      "outputs": [
        {
          "output_type": "execute_result",
          "data": {
            "text/plain": [
              "{'analyzer': 'char',\n",
              " 'binary': False,\n",
              " 'decode_error': 'strict',\n",
              " 'dtype': numpy.float64,\n",
              " 'encoding': 'utf-8',\n",
              " 'input': 'content',\n",
              " 'lowercase': True,\n",
              " 'max_df': 1.0,\n",
              " 'max_features': 25000,\n",
              " 'min_df': 1,\n",
              " 'ngram_range': (1, 5),\n",
              " 'norm': 'l2',\n",
              " 'preprocessor': None,\n",
              " 'smooth_idf': True,\n",
              " 'stop_words': None,\n",
              " 'strip_accents': None,\n",
              " 'sublinear_tf': False,\n",
              " 'token_pattern': '(?u)\\\\b\\\\w\\\\w+\\\\b',\n",
              " 'tokenizer': None,\n",
              " 'use_idf': True,\n",
              " 'vocabulary': None}"
            ]
          },
          "metadata": {
            "tags": []
          },
          "execution_count": 17
        }
      ]
    },
    {
      "cell_type": "markdown",
      "metadata": {
        "id": "Kv0v4hgIBk3L"
      },
      "source": [
        "#Training Classifiers"
      ]
    },
    {
      "cell_type": "code",
      "metadata": {
        "id": "3XPSSkzOBmCS"
      },
      "source": [
        "#Breaking our input and target variable into train and test data\n",
        "from sklearn.model_selection import train_test_split\n",
        "x_train,x_test,y_train,y_test = train_test_split(x,y,test_size=0.2,random_state=42)"
      ],
      "execution_count": 18,
      "outputs": []
    },
    {
      "cell_type": "code",
      "metadata": {
        "id": "S7-v0njiBpP_"
      },
      "source": [
        "# Importing all the model library\n",
        "from sklearn.linear_model import LogisticRegression\n",
        "from sklearn.svm import LinearSVC\n",
        "from sklearn.naive_bayes import MultinomialNB\n",
        "from sklearn.linear_model import PassiveAggressiveClassifier\n",
        "from sklearn.ensemble import RandomForestClassifier\n",
        "# Importing performance metrics\n",
        "from sklearn.metrics import accuracy_score, confusion_matrix, classification_report"
      ],
      "execution_count": 19,
      "outputs": []
    },
    {
      "cell_type": "code",
      "metadata": {
        "id": "Qq27vnbfBsJm"
      },
      "source": [
        "# Passing the best fit parameters\n",
        "svc = LinearSVC(C=20, class_weight='balanced')\n",
        "mnb = MultinomialNB(alpha = 1.0,fit_prior = True)\n",
        "pac = PassiveAggressiveClassifier(C = 0.8, n_iter_no_change = 4)\n",
        "rfc = RandomForestClassifier(n_estimators = 100,min_samples_split = 2)"
      ],
      "execution_count": 20,
      "outputs": []
    },
    {
      "cell_type": "code",
      "metadata": {
        "id": "lAIilNZ6Bur7"
      },
      "source": [
        "# Evaluating the models using to find their performance metrics\n",
        "def evaluate_metrics(model):\n",
        "    model.fit(x_train,y_train)\n",
        "    model.score(x_train,y_train)\n",
        "    pred=model.predict(x_test)\n",
        "    print('Accuracy score of',model,'is:')\n",
        "    print(accuracy_score(y_test,pred))\n",
        "    print(confusion_matrix(y_test,pred))\n",
        "    print(classification_report(y_test,pred))"
      ],
      "execution_count": 21,
      "outputs": []
    },
    {
      "cell_type": "code",
      "metadata": {
        "colab": {
          "base_uri": "https://localhost:8080/"
        },
        "id": "e1xIS7IZBw32",
        "outputId": "26a43293-483f-4377-d034-ae22e34881cd"
      },
      "source": [
        "evaluate_metrics(svc)"
      ],
      "execution_count": 22,
      "outputs": [
        {
          "output_type": "stream",
          "text": [
            "Accuracy score of LinearSVC(C=20, class_weight='balanced', dual=True, fit_intercept=True,\n",
            "          intercept_scaling=1, loss='squared_hinge', max_iter=1000,\n",
            "          multi_class='ovr', penalty='l2', random_state=None, tol=0.0001,\n",
            "          verbose=0) is:\n",
            "0.9878153423717179\n",
            "[[    2     3    10     1     0]\n",
            " [    0     7     7     0     1]\n",
            " [    3    16   143    35     6]\n",
            " [    0    17    55  5545     5]\n",
            " [    0    19    29     6 11571]]\n",
            "              precision    recall  f1-score   support\n",
            "\n",
            "         1.0       0.40      0.12      0.19        16\n",
            "         2.0       0.11      0.47      0.18        15\n",
            "         3.0       0.59      0.70      0.64       203\n",
            "         4.0       0.99      0.99      0.99      5622\n",
            "         5.0       1.00      1.00      1.00     11625\n",
            "\n",
            "    accuracy                           0.99     17481\n",
            "   macro avg       0.62      0.66      0.60     17481\n",
            "weighted avg       0.99      0.99      0.99     17481\n",
            "\n"
          ],
          "name": "stdout"
        }
      ]
    },
    {
      "cell_type": "code",
      "metadata": {
        "colab": {
          "base_uri": "https://localhost:8080/"
        },
        "id": "ZBHoQAahBzam",
        "outputId": "4745a865-83b7-40d8-e9bb-23e8730821a8"
      },
      "source": [
        "evaluate_metrics(mnb)"
      ],
      "execution_count": 23,
      "outputs": [
        {
          "output_type": "stream",
          "text": [
            "Accuracy score of MultinomialNB(alpha=1.0, class_prior=None, fit_prior=True) is:\n",
            "0.9835821749327842\n",
            "[[    0     0    12     0     4]\n",
            " [    0     0     8     0     7]\n",
            " [    0     0   143    27    33]\n",
            " [    0     0   128  5454    40]\n",
            " [    0     0    23     5 11597]]\n",
            "              precision    recall  f1-score   support\n",
            "\n",
            "         1.0       0.00      0.00      0.00        16\n",
            "         2.0       0.00      0.00      0.00        15\n",
            "         3.0       0.46      0.70      0.55       203\n",
            "         4.0       0.99      0.97      0.98      5622\n",
            "         5.0       0.99      1.00      1.00     11625\n",
            "\n",
            "    accuracy                           0.98     17481\n",
            "   macro avg       0.49      0.53      0.51     17481\n",
            "weighted avg       0.99      0.98      0.98     17481\n",
            "\n"
          ],
          "name": "stdout"
        }
      ]
    },
    {
      "cell_type": "code",
      "metadata": {
        "colab": {
          "base_uri": "https://localhost:8080/"
        },
        "id": "dSfT72FGB18L",
        "outputId": "058782f5-7d7c-447d-bd41-0bbee4ec7031"
      },
      "source": [
        "evaluate_metrics(pac)"
      ],
      "execution_count": 24,
      "outputs": [
        {
          "output_type": "stream",
          "text": [
            "Accuracy score of PassiveAggressiveClassifier(C=0.8, average=False, class_weight=None,\n",
            "                            early_stopping=False, fit_intercept=True,\n",
            "                            loss='hinge', max_iter=1000, n_iter_no_change=4,\n",
            "                            n_jobs=None, random_state=None, shuffle=True,\n",
            "                            tol=0.001, validation_fraction=0.1, verbose=0,\n",
            "                            warm_start=False) is:\n",
            "0.987071677821635\n",
            "[[    1     0    11     3     1]\n",
            " [    0     1    10     2     2]\n",
            " [    2     8   122    53    18]\n",
            " [    0     0    59  5558     5]\n",
            " [    0     0    42    10 11573]]\n",
            "              precision    recall  f1-score   support\n",
            "\n",
            "         1.0       0.33      0.06      0.11        16\n",
            "         2.0       0.11      0.07      0.08        15\n",
            "         3.0       0.50      0.60      0.55       203\n",
            "         4.0       0.99      0.99      0.99      5622\n",
            "         5.0       1.00      1.00      1.00     11625\n",
            "\n",
            "    accuracy                           0.99     17481\n",
            "   macro avg       0.59      0.54      0.54     17481\n",
            "weighted avg       0.99      0.99      0.99     17481\n",
            "\n"
          ],
          "name": "stdout"
        }
      ]
    },
    {
      "cell_type": "code",
      "metadata": {
        "colab": {
          "base_uri": "https://localhost:8080/"
        },
        "id": "b4BlreB6B4mT",
        "outputId": "e30a06c9-783f-4020-a84c-6eb8836cc8b1"
      },
      "source": [
        "evaluate_metrics(rfc)"
      ],
      "execution_count": 25,
      "outputs": [
        {
          "output_type": "stream",
          "text": [
            "Accuracy score of RandomForestClassifier(bootstrap=True, ccp_alpha=0.0, class_weight=None,\n",
            "                       criterion='gini', max_depth=None, max_features='auto',\n",
            "                       max_leaf_nodes=None, max_samples=None,\n",
            "                       min_impurity_decrease=0.0, min_impurity_split=None,\n",
            "                       min_samples_leaf=1, min_samples_split=2,\n",
            "                       min_weight_fraction_leaf=0.0, n_estimators=100,\n",
            "                       n_jobs=None, oob_score=False, random_state=None,\n",
            "                       verbose=0, warm_start=False) is:\n",
            "0.9887878267833647\n",
            "[[    1     1     9     3     2]\n",
            " [    0     1     4     4     6]\n",
            " [    2     6   116    68    11]\n",
            " [    0     0    36  5576    10]\n",
            " [    0     0    19    15 11591]]\n",
            "              precision    recall  f1-score   support\n",
            "\n",
            "         1.0       0.33      0.06      0.11        16\n",
            "         2.0       0.12      0.07      0.09        15\n",
            "         3.0       0.63      0.57      0.60       203\n",
            "         4.0       0.98      0.99      0.99      5622\n",
            "         5.0       1.00      1.00      1.00     11625\n",
            "\n",
            "    accuracy                           0.99     17481\n",
            "   macro avg       0.61      0.54      0.56     17481\n",
            "weighted avg       0.99      0.99      0.99     17481\n",
            "\n"
          ],
          "name": "stdout"
        }
      ]
    },
    {
      "cell_type": "markdown",
      "metadata": {
        "id": "NsJhQ7IlJFMy"
      },
      "source": [
        "#Observations: RandomForestClassifier is performing good So,we opt it as final model."
      ]
    },
    {
      "cell_type": "markdown",
      "metadata": {
        "id": "Uje-ArQpJMhf"
      },
      "source": [
        "# Testing Predictions"
      ]
    },
    {
      "cell_type": "code",
      "metadata": {
        "colab": {
          "base_uri": "https://localhost:8080/"
        },
        "id": "mWd84bIXB7E6",
        "outputId": "02b389a0-7453-47d9-9004-2c692c06ab60"
      },
      "source": [
        "x = 'Built quality is very good. Bass is a bit too '\n",
        "x = clean(x)\n",
        "tf_vec = tf_vec.transform([x])\n",
        "rfc.predict(tf_vec)"
      ],
      "execution_count": 26,
      "outputs": [
        {
          "output_type": "execute_result",
          "data": {
            "text/plain": [
              "array([4.])"
            ]
          },
          "metadata": {
            "tags": []
          },
          "execution_count": 26
        }
      ]
    }
  ]
}